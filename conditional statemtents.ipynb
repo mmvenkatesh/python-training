{
 "cells": [
  {
   "cell_type": "code",
   "execution_count": 1,
   "metadata": {
    "collapsed": true
   },
   "outputs": [],
   "source": [
    "# if ifelse if else if"
   ]
  },
  {
   "cell_type": "code",
   "execution_count": 2,
   "metadata": {
    "collapsed": false
   },
   "outputs": [
    {
     "name": "stdout",
     "output_type": "stream",
     "text": [
      "staritng statemetns\n",
      "else block started\n",
      "10>20 false\n",
      "else block ended\n",
      "statements in main block\n",
      "ending statements\n"
     ]
    }
   ],
   "source": [
    "\"\"\"\n",
    "if condition:\n",
    "    staments for if block\n",
    "else\n",
    "    statements for else block\n",
    "\"\"\"\n",
    "print \"staritng statemetns\"\n",
    "if 10>20:\n",
    "    print \"if block started\"\n",
    "    print \"10>20 is true\"\n",
    "    print \"if block ended\"\n",
    "else:\n",
    "    print \"else block started\"\n",
    "    print \"10>20 false\"\n",
    "    print \"else block ended\"\n",
    "print \"statements in main block\"\n",
    "print \"ending statements\""
   ]
  },
  {
   "cell_type": "code",
   "execution_count": 3,
   "metadata": {
    "collapsed": false
   },
   "outputs": [
    {
     "name": "stdout",
     "output_type": "stream",
     "text": [
      "staritng statemetns\n",
      "if block started\n",
      "10<20 is true\n",
      "if block ended\n",
      "statements in main block\n",
      "ending statements\n"
     ]
    }
   ],
   "source": [
    "\"\"\"\n",
    "if condition:\n",
    "    staments for if block\n",
    "else\n",
    "    statements for else block\n",
    "\"\"\"\n",
    "print \"staritng statemetns\"\n",
    "if 10<20:\n",
    "    print \"if block started\"\n",
    "    print \"10<20 is true\"\n",
    "    print \"if block ended\"\n",
    "else:\n",
    "    print \"else block started\"\n",
    "    print \"10<20 false\"\n",
    "    print \"else block ended\"\n",
    "print \"statements in main block\"\n",
    "print \"ending statements\""
   ]
  },
  {
   "cell_type": "code",
   "execution_count": 4,
   "metadata": {
    "collapsed": false
   },
   "outputs": [
    {
     "ename": "IndentationError",
     "evalue": "unexpected indent (<ipython-input-4-f7e9a4490c25>, line 4)",
     "output_type": "error",
     "traceback": [
      "\u001b[0;36m  File \u001b[0;32m\"<ipython-input-4-f7e9a4490c25>\"\u001b[0;36m, line \u001b[0;32m4\u001b[0m\n\u001b[0;31m    print \"10<20 is true\"\u001b[0m\n\u001b[0m    ^\u001b[0m\n\u001b[0;31mIndentationError\u001b[0m\u001b[0;31m:\u001b[0m unexpected indent\n"
     ]
    }
   ],
   "source": [
    "print \"staritng statemetns\"\n",
    "if 10<20:\n",
    "  print \"if block started\"\n",
    "    print \"10<20 is true\"\n",
    "    print \"if block ended\"\n",
    "else:\n",
    "    print \"else block started\"\n",
    "    print \"10<20 false\"\n",
    "    print \"else block ended\"\n",
    "print \"statements in main block\"\n",
    "print \"ending statements\""
   ]
  },
  {
   "cell_type": "code",
   "execution_count": 5,
   "metadata": {
    "collapsed": false
   },
   "outputs": [
    {
     "ename": "IndentationError",
     "evalue": "unexpected indent (<ipython-input-5-8b14b7942efb>, line 5)",
     "output_type": "error",
     "traceback": [
      "\u001b[0;36m  File \u001b[0;32m\"<ipython-input-5-8b14b7942efb>\"\u001b[0;36m, line \u001b[0;32m5\u001b[0m\n\u001b[0;31m    print \"if block ended\"\u001b[0m\n\u001b[0m    ^\u001b[0m\n\u001b[0;31mIndentationError\u001b[0m\u001b[0;31m:\u001b[0m unexpected indent\n"
     ]
    }
   ],
   "source": [
    "print \"staritng statemetns\"\n",
    "if 10<20:\n",
    "  print \"if block started\"\n",
    "print \"10<20 is true\"\n",
    "    print \"if block ended\"\n",
    "else:\n",
    "    print \"else block started\"\n",
    "    print \"10<20 false\"\n",
    "    print \"else block ended\"\n",
    "print \"statements in main block\"\n",
    "print \"ending statements\""
   ]
  },
  {
   "cell_type": "code",
   "execution_count": 6,
   "metadata": {
    "collapsed": false
   },
   "outputs": [
    {
     "name": "stdout",
     "output_type": "stream",
     "text": [
      "staritng statemetns\n",
      "if block started\n",
      "10<20 is true\n"
     ]
    }
   ],
   "source": [
    "print \"staritng statemetns\"\n",
    "if 10<20:\n",
    "  print \"if block started\"\n",
    "print \"10<20 is true\""
   ]
  },
  {
   "cell_type": "code",
   "execution_count": 7,
   "metadata": {
    "collapsed": false
   },
   "outputs": [
    {
     "name": "stdout",
     "output_type": "stream",
     "text": [
      "staritng statemetns\n",
      "if block started\n",
      "10<20 is true\n",
      "if block ended\n",
      "statements in main block\n",
      "ending statements\n"
     ]
    }
   ],
   "source": [
    "print \"staritng statemetns\"\n",
    "if 10<20:\n",
    "    print \"if block started\"\n",
    "    print \"10<20 is true\"\n",
    "    print \"if block ended\"\n",
    "else:\n",
    " print \"else block started\"\n",
    " print \"10<20 false\"\n",
    " print \"else block ended\"\n",
    "print \"statements in main block\"\n",
    "print \"ending statements\""
   ]
  },
  {
   "cell_type": "code",
   "execution_count": 9,
   "metadata": {
    "collapsed": false
   },
   "outputs": [
    {
     "name": "stdout",
     "output_type": "stream",
     "text": [
      "1.MAC\n",
      "2.LINUX\n",
      "3.WINDOWS\n"
     ]
    }
   ],
   "source": [
    "\"\"\"\n",
    "1.MAC\n",
    "2.LINUX\n",
    "3.WINDOWS\n",
    "\"\"\"\n",
    "print \"1.MAC\\n2.LINUX\\n3.WINDOWS\"\n"
   ]
  },
  {
   "cell_type": "code",
   "execution_count": 10,
   "metadata": {
    "collapsed": false
   },
   "outputs": [
    {
     "name": "stdout",
     "output_type": "stream",
     "text": [
      "1.MAC\n",
      "2.LINUX\n",
      "3.WINDOWS\n",
      "enter an option: 1\n"
     ]
    }
   ],
   "source": [
    "\"\"\"\n",
    "1.MAC\n",
    "2.LINUX\n",
    "3.WINDOWS\n",
    "\"\"\"\n",
    "print \"1.MAC\\n2.LINUX\\n3.WINDOWS\"\n",
    "opt = raw_input(\"enter an option: \")\n"
   ]
  },
  {
   "cell_type": "code",
   "execution_count": 11,
   "metadata": {
    "collapsed": false
   },
   "outputs": [
    {
     "name": "stdout",
     "output_type": "stream",
     "text": [
      "1\n"
     ]
    }
   ],
   "source": [
    "print opt"
   ]
  },
  {
   "cell_type": "code",
   "execution_count": 12,
   "metadata": {
    "collapsed": false
   },
   "outputs": [
    {
     "name": "stdout",
     "output_type": "stream",
     "text": [
      "1.MAC\n",
      "2.LINUX\n",
      "3.WINDOWS\n",
      "enter an option: 1\n"
     ]
    }
   ],
   "source": [
    "\"\"\"\n",
    "1.MAC\n",
    "2.LINUX\n",
    "3.WINDOWS\n",
    "\"\"\"\n",
    "print \"1.MAC\\n2.LINUX\\n3.WINDOWS\"\n",
    "opt = raw_input(\"enter an option: \")\n",
    "if opt==1:\n",
    "    print \"MAC selected\""
   ]
  },
  {
   "cell_type": "code",
   "execution_count": 13,
   "metadata": {
    "collapsed": false
   },
   "outputs": [
    {
     "data": {
      "text/plain": [
       "False"
      ]
     },
     "execution_count": 13,
     "metadata": {},
     "output_type": "execute_result"
    }
   ],
   "source": [
    "\"1\"==1"
   ]
  },
  {
   "cell_type": "code",
   "execution_count": 14,
   "metadata": {
    "collapsed": false
   },
   "outputs": [
    {
     "name": "stdout",
     "output_type": "stream",
     "text": [
      "1.MAC\n",
      "2.LINUX\n",
      "3.WINDOWS\n",
      "enter an option: 1\n",
      "MAC selected\n"
     ]
    }
   ],
   "source": [
    "\"\"\"\n",
    "1.MAC\n",
    "2.LINUX\n",
    "3.WINDOWS\n",
    "\"\"\"\n",
    "print \"1.MAC\\n2.LINUX\\n3.WINDOWS\"\n",
    "opt = raw_input(\"enter an option: \")\n",
    "if opt==\"1\":\n",
    "    print \"MAC selected\"\n",
    "if opt==\"2\":\n",
    "    print \"LINUX selected\"\n",
    "if opt==\"3\":\n",
    "    print \"WINDOWS SELECTED\""
   ]
  },
  {
   "cell_type": "code",
   "execution_count": 15,
   "metadata": {
    "collapsed": false
   },
   "outputs": [
    {
     "name": "stdout",
     "output_type": "stream",
     "text": [
      "1.MAC\n",
      "2.LINUX\n",
      "3.WINDOWS\n",
      "enter an option: 2\n",
      "LINUX selected\n"
     ]
    }
   ],
   "source": [
    "\"\"\"\n",
    "1.MAC\n",
    "2.LINUX\n",
    "3.WINDOWS\n",
    "\"\"\"\n",
    "print \"1.MAC\\n2.LINUX\\n3.WINDOWS\"\n",
    "opt = raw_input(\"enter an option: \")\n",
    "if opt==\"1\":\n",
    "    print \"MAC selected\"\n",
    "if opt==\"2\":\n",
    "    print \"LINUX selected\"\n",
    "if opt==\"3\":\n",
    "    print \"WINDOWS SELECTED\""
   ]
  },
  {
   "cell_type": "code",
   "execution_count": 16,
   "metadata": {
    "collapsed": false
   },
   "outputs": [
    {
     "name": "stdout",
     "output_type": "stream",
     "text": [
      "1.MAC\n",
      "2.LINUX\n",
      "3.WINDOWS\n",
      "enter an option: 3\n",
      "WINDOWS SELECTED\n"
     ]
    }
   ],
   "source": [
    "\"\"\"\n",
    "1.MAC\n",
    "2.LINUX\n",
    "3.WINDOWS\n",
    "\"\"\"\n",
    "print \"1.MAC\\n2.LINUX\\n3.WINDOWS\"\n",
    "opt = raw_input(\"enter an option: \")\n",
    "if opt==\"1\":\n",
    "    print \"MAC selected\"\n",
    "if opt==\"2\":\n",
    "    print \"LINUX selected\"\n",
    "if opt==\"3\":\n",
    "    print \"WINDOWS SELECTED\""
   ]
  },
  {
   "cell_type": "code",
   "execution_count": 17,
   "metadata": {
    "collapsed": false
   },
   "outputs": [
    {
     "name": "stdout",
     "output_type": "stream",
     "text": [
      "1.MAC\n",
      "2.LINUX\n",
      "3.WINDOWS\n",
      "enter an option: 4\n"
     ]
    }
   ],
   "source": [
    "\"\"\"\n",
    "1.MAC\n",
    "2.LINUX\n",
    "3.WINDOWS\n",
    "\"\"\"\n",
    "print \"1.MAC\\n2.LINUX\\n3.WINDOWS\"\n",
    "opt = raw_input(\"enter an option: \")\n",
    "if opt==\"1\":\n",
    "    print \"MAC selected\"\n",
    "if opt==\"2\":\n",
    "    print \"LINUX selected\"\n",
    "if opt==\"3\":\n",
    "    print \"WINDOWS SELECTED\""
   ]
  },
  {
   "cell_type": "code",
   "execution_count": 18,
   "metadata": {
    "collapsed": false
   },
   "outputs": [
    {
     "name": "stdout",
     "output_type": "stream",
     "text": [
      "program started\n",
      "1.MAC\n",
      "2.LINUX\n",
      "3.WINDOWS\n",
      "enter an option: 4\n",
      "other statements in program\n",
      "program started\n"
     ]
    }
   ],
   "source": [
    "\"\"\"\n",
    "1.MAC\n",
    "2.LINUX\n",
    "3.WINDOWS\n",
    "\"\"\"\n",
    "print \"program started\"\n",
    "print \"1.MAC\\n2.LINUX\\n3.WINDOWS\"\n",
    "opt = raw_input(\"enter an option: \")\n",
    "if opt==\"1\":\n",
    "    print \"MAC selected\"\n",
    "if opt==\"2\":\n",
    "    print \"LINUX selected\"\n",
    "if opt==\"3\":\n",
    "    print \"WINDOWS SELECTED\"\n",
    "print \"other statements in program\"\n",
    "print \"program started\""
   ]
  },
  {
   "cell_type": "code",
   "execution_count": 19,
   "metadata": {
    "collapsed": false
   },
   "outputs": [
    {
     "name": "stdout",
     "output_type": "stream",
     "text": [
      "program started\n",
      "1.MAC\n",
      "2.LINUX\n",
      "3.WINDOWS\n",
      "enter an option: 4\n",
      "wrong selection\n",
      "other statements in program\n",
      "program started\n"
     ]
    }
   ],
   "source": [
    "\"\"\"\n",
    "1.MAC\n",
    "2.LINUX\n",
    "3.WINDOWS\n",
    "\"\"\"\n",
    "print \"program started\"\n",
    "print \"1.MAC\\n2.LINUX\\n3.WINDOWS\"\n",
    "opt = raw_input(\"enter an option: \")\n",
    "if opt==\"1\":\n",
    "    print \"MAC selected\"\n",
    "if opt==\"2\":\n",
    "    print \"LINUX selected\"\n",
    "if opt==\"3\":\n",
    "    print \"WINDOWS SELECTED\"\n",
    "else:\n",
    "    print \"wrong selection\"\n",
    "print \"other statements in program\"\n",
    "print \"program started\""
   ]
  },
  {
   "cell_type": "code",
   "execution_count": 20,
   "metadata": {
    "collapsed": false
   },
   "outputs": [
    {
     "name": "stdout",
     "output_type": "stream",
     "text": [
      "program started\n",
      "1.MAC\n",
      "2.LINUX\n",
      "3.WINDOWS\n",
      "enter an option: 2\n",
      "LINUX selected\n",
      "wrong selection\n",
      "other statements in program\n",
      "program started\n"
     ]
    }
   ],
   "source": [
    "\"\"\"\n",
    "1.MAC\n",
    "2.LINUX\n",
    "3.WINDOWS\n",
    "\"\"\"\n",
    "print \"program started\"\n",
    "print \"1.MAC\\n2.LINUX\\n3.WINDOWS\"\n",
    "opt = raw_input(\"enter an option: \")\n",
    "if opt==\"1\":\n",
    "    print \"MAC selected\"\n",
    "if opt==\"2\":\n",
    "    print \"LINUX selected\"\n",
    "if opt==\"3\":\n",
    "    print \"WINDOWS SELECTED\"\n",
    "else:\n",
    "    print \"wrong selection\"\n",
    "print \"other statements in program\"\n",
    "print \"program started\""
   ]
  },
  {
   "cell_type": "code",
   "execution_count": 21,
   "metadata": {
    "collapsed": false
   },
   "outputs": [
    {
     "name": "stdout",
     "output_type": "stream",
     "text": [
      "program started\n",
      "1.MAC\n",
      "2.LINUX\n",
      "3.WINDOWS\n",
      "enter an option: 2\n",
      "LINUX selected\n",
      "other statements in program\n",
      "program started\n"
     ]
    }
   ],
   "source": [
    "\"\"\"\n",
    "1.MAC\n",
    "2.LINUX\n",
    "3.WINDOWS\n",
    "\"\"\"\n",
    "print \"program started\"\n",
    "print \"1.MAC\\n2.LINUX\\n3.WINDOWS\"\n",
    "opt = raw_input(\"enter an option: \")\n",
    "if opt==\"1\":\n",
    "    print \"MAC selected\"\n",
    "elif opt==\"2\":\n",
    "    print \"LINUX selected\"\n",
    "elif opt==\"3\":\n",
    "    print \"WINDOWS SELECTED\"\n",
    "else:\n",
    "    print \"wrong selection\"\n",
    "print \"other statements in program\"\n",
    "print \"program started\""
   ]
  },
  {
   "cell_type": "code",
   "execution_count": null,
   "metadata": {
    "collapsed": true
   },
   "outputs": [],
   "source": [
    "# looping statements\n",
    "#for while\n",
    "print \"program started\"\n",
    "i=0\n",
    "while i<10:\n",
    "    print i\n",
    "    print \"iteration ended\"\n",
    "\n",
    "print \"other statements in program\"\n",
    "print \"Porgram ended\""
   ]
  },
  {
   "cell_type": "code",
   "execution_count": 22,
   "metadata": {
    "collapsed": false
   },
   "outputs": [
    {
     "name": "stdout",
     "output_type": "stream",
     "text": [
      "program started\n",
      "0\n",
      "iteration ended\n",
      "1\n",
      "iteration ended\n",
      "other statements in program\n",
      "Porgram ended\n"
     ]
    }
   ],
   "source": [
    "# looping statements\n",
    "#for while\n",
    "print \"program started\"\n",
    "i=0\n",
    "while i<2:\n",
    "    print i\n",
    "    print \"iteration ended\"\n",
    "    i=i+1\n",
    "    \n",
    "\n",
    "print \"other statements in program\"\n",
    "print \"Porgram ended\""
   ]
  },
  {
   "cell_type": "code",
   "execution_count": 23,
   "metadata": {
    "collapsed": false
   },
   "outputs": [
    {
     "name": "stdout",
     "output_type": "stream",
     "text": [
      "program started\n",
      "P\n",
      "y\n",
      "t\n",
      "h\n",
      "o\n",
      "n\n",
      " \n",
      "p\n",
      "r\n",
      "o\n",
      "g\n",
      "r\n",
      "a\n",
      "m\n",
      "other statements in program\n",
      "Porgram ended\n"
     ]
    }
   ],
   "source": [
    "s=\"Python program\"\n",
    "print \"program started\"\n",
    "for i in s:\n",
    "    print i\n",
    "    \n",
    "print \"other statements in program\"\n",
    "print \"Porgram ended\"\n"
   ]
  },
  {
   "cell_type": "code",
   "execution_count": 24,
   "metadata": {
    "collapsed": false
   },
   "outputs": [
    {
     "name": "stdout",
     "output_type": "stream",
     "text": [
      "program started\n",
      "P\n",
      "iteration ended\n",
      "y\n",
      "iteration ended\n",
      "t\n",
      "iteration ended\n",
      "h\n",
      "iteration ended\n",
      "o\n",
      "iteration ended\n",
      "n\n",
      "iteration ended\n",
      " \n",
      "iteration ended\n",
      "p\n",
      "iteration ended\n",
      "r\n",
      "iteration ended\n",
      "o\n",
      "iteration ended\n",
      "g\n",
      "iteration ended\n",
      "r\n",
      "iteration ended\n",
      "a\n",
      "iteration ended\n",
      "m\n",
      "iteration ended\n",
      "other statements in program\n",
      "Porgram ended\n"
     ]
    }
   ],
   "source": [
    "s=\"Python program\"\n",
    "print \"program started\"\n",
    "for i in s:\n",
    "    print i\n",
    "    print \"iteration ended\"\n",
    "print \"other statements in program\"\n",
    "print \"Porgram ended\"\n"
   ]
  },
  {
   "cell_type": "code",
   "execution_count": 25,
   "metadata": {
    "collapsed": false
   },
   "outputs": [
    {
     "ename": "TypeError",
     "evalue": "'int' object is not iterable",
     "output_type": "error",
     "traceback": [
      "\u001b[0;31m---------------------------------------------------------------------------\u001b[0m",
      "\u001b[0;31mTypeError\u001b[0m                                 Traceback (most recent call last)",
      "\u001b[0;32m<ipython-input-25-212546044aeb>\u001b[0m in \u001b[0;36m<module>\u001b[0;34m()\u001b[0m\n\u001b[0;32m----> 1\u001b[0;31m \u001b[1;32mfor\u001b[0m \u001b[0mi\u001b[0m \u001b[1;32min\u001b[0m \u001b[1;36m1223455\u001b[0m\u001b[1;33m:\u001b[0m\u001b[1;33m\u001b[0m\u001b[0m\n\u001b[0m\u001b[1;32m      2\u001b[0m     \u001b[1;32mprint\u001b[0m \u001b[0mi\u001b[0m\u001b[1;33m\u001b[0m\u001b[0m\n",
      "\u001b[0;31mTypeError\u001b[0m: 'int' object is not iterable"
     ]
    }
   ],
   "source": [
    "for i in 1223455:\n",
    "    print i"
   ]
  },
  {
   "cell_type": "code",
   "execution_count": 26,
   "metadata": {
    "collapsed": false
   },
   "outputs": [
    {
     "name": "stdout",
     "output_type": "stream",
     "text": [
      "p\n",
      "y\n",
      "t\n"
     ]
    }
   ],
   "source": [
    "for i in \"pyt\":\n",
    "    print i"
   ]
  },
  {
   "cell_type": "code",
   "execution_count": 29,
   "metadata": {
    "collapsed": false
   },
   "outputs": [
    {
     "name": "stdout",
     "output_type": "stream",
     "text": [
      "program started\n",
      "p\n",
      "some other statements in for loop\n",
      "y\n",
      "some other statements in for loop\n",
      "t\n",
      "some other statements in for loop\n",
      "h\n",
      "H occured so i am going out of this loop\n",
      "other statements inprogram\n",
      "program ended\n"
     ]
    }
   ],
   "source": [
    "# looping control statements.. break, continue\n",
    "print \"program started\"\n",
    "for i in \"python\":\n",
    "    print i\n",
    "    if i==\"h\":\n",
    "        print \"H occured so i am going out of this loop\"\n",
    "        break\n",
    "        print \"After break in if block\"\n",
    "    print \"some other statements in for loop\"\n",
    "print \"other statements inprogram\"\n",
    "print \"program ended\""
   ]
  },
  {
   "cell_type": "code",
   "execution_count": 30,
   "metadata": {
    "collapsed": false
   },
   "outputs": [
    {
     "name": "stdout",
     "output_type": "stream",
     "text": [
      "p\n"
     ]
    }
   ],
   "source": [
    "for i in \"python\":\n",
    "    break\n",
    "print i"
   ]
  },
  {
   "cell_type": "code",
   "execution_count": 31,
   "metadata": {
    "collapsed": true
   },
   "outputs": [],
   "source": [
    "for i in \"python\":\n",
    "    break\n",
    "    print i"
   ]
  },
  {
   "cell_type": "code",
   "execution_count": 32,
   "metadata": {
    "collapsed": false
   },
   "outputs": [
    {
     "name": "stdout",
     "output_type": "stream",
     "text": [
      "0\n"
     ]
    }
   ],
   "source": [
    "i=0\n",
    "while i<10:\n",
    "    break\n",
    "print i"
   ]
  },
  {
   "cell_type": "code",
   "execution_count": 33,
   "metadata": {
    "collapsed": false
   },
   "outputs": [
    {
     "name": "stdout",
     "output_type": "stream",
     "text": [
      "p\n",
      "y\n",
      "t\n",
      "h\n",
      "o\n",
      "n\n"
     ]
    }
   ],
   "source": [
    "# continue\n",
    "for i in \"python\":\n",
    "    print i\n",
    "    continue\n",
    "    "
   ]
  },
  {
   "cell_type": "code",
   "execution_count": 34,
   "metadata": {
    "collapsed": false
   },
   "outputs": [
    {
     "name": "stdout",
     "output_type": "stream",
     "text": [
      "p\n",
      "y\n",
      "t\n",
      "h\n",
      "o\n",
      "n\n"
     ]
    }
   ],
   "source": [
    "# continue\n",
    "for i in \"python\":\n",
    "    print i\n",
    "    "
   ]
  },
  {
   "cell_type": "code",
   "execution_count": 35,
   "metadata": {
    "collapsed": false
   },
   "outputs": [
    {
     "name": "stdout",
     "output_type": "stream",
     "text": [
      "p\n",
      "y\n",
      "t\n",
      "h\n",
      "o\n",
      "n\n"
     ]
    }
   ],
   "source": [
    "# continue\n",
    "for i in \"python\":\n",
    "    print i\n",
    "    continue\n",
    "    print \"iteration ended\"\n",
    "    "
   ]
  },
  {
   "cell_type": "code",
   "execution_count": 36,
   "metadata": {
    "collapsed": false
   },
   "outputs": [
    {
     "name": "stdout",
     "output_type": "stream",
     "text": [
      "p\n",
      "y\n",
      "t\n",
      "h\n",
      "iteration ended\n",
      "o\n",
      "iteration ended\n",
      "n\n",
      "iteration ended\n"
     ]
    }
   ],
   "source": [
    "# continue\n",
    "for i in \"python\":\n",
    "    print i\n",
    "    if i not in \"hon\":\n",
    "        continue\n",
    "    print \"iteration ended\"\n",
    "    "
   ]
  },
  {
   "cell_type": "code",
   "execution_count": 38,
   "metadata": {
    "collapsed": false
   },
   "outputs": [
    {
     "name": "stdout",
     "output_type": "stream",
     "text": [
      "p\n",
      "y\n",
      "t\n",
      "o\n",
      "n\n"
     ]
    }
   ],
   "source": [
    "# continue\n",
    "for i in \"python\":\n",
    "    if i==\"h\":\n",
    "        continue\n",
    "    print i\n",
    "    "
   ]
  },
  {
   "cell_type": "code",
   "execution_count": null,
   "metadata": {
    "collapsed": true
   },
   "outputs": [],
   "source": []
  }
 ],
 "metadata": {
  "kernelspec": {
   "display_name": "Python [default]",
   "language": "python",
   "name": "python2"
  },
  "language_info": {
   "codemirror_mode": {
    "name": "ipython",
    "version": 2
   },
   "file_extension": ".py",
   "mimetype": "text/x-python",
   "name": "python",
   "nbconvert_exporter": "python",
   "pygments_lexer": "ipython2",
   "version": "2.7.12"
  }
 },
 "nbformat": 4,
 "nbformat_minor": 1
}
